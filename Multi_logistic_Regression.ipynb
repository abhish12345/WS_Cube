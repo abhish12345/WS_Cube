{
 "cells": [
  {
   "cell_type": "code",
   "execution_count": 1,
   "id": "e762f296-46a2-4146-829c-77f8183c29d8",
   "metadata": {},
   "outputs": [],
   "source": [
    "import pandas as pd\n",
    "import seaborn as sns\n",
    "import matplotlib.pyplot as plt"
   ]
  },
  {
   "cell_type": "code",
   "execution_count": 2,
   "id": "fb6cac03-d0bf-4fb6-8555-3f46916f4fd4",
   "metadata": {},
   "outputs": [],
   "source": [
    "dataset = pd.read_csv('placements.csv')"
   ]
  },
  {
   "cell_type": "code",
   "execution_count": 3,
   "id": "71cb94df-dc88-4d97-961f-ac2e646515ca",
   "metadata": {},
   "outputs": [
    {
     "data": {
      "text/html": [
       "<div>\n",
       "<style scoped>\n",
       "    .dataframe tbody tr th:only-of-type {\n",
       "        vertical-align: middle;\n",
       "    }\n",
       "\n",
       "    .dataframe tbody tr th {\n",
       "        vertical-align: top;\n",
       "    }\n",
       "\n",
       "    .dataframe thead th {\n",
       "        text-align: right;\n",
       "    }\n",
       "</style>\n",
       "<table border=\"1\" class=\"dataframe\">\n",
       "  <thead>\n",
       "    <tr style=\"text-align: right;\">\n",
       "      <th></th>\n",
       "      <th>cgpa</th>\n",
       "      <th>resume_score</th>\n",
       "      <th>placed</th>\n",
       "    </tr>\n",
       "  </thead>\n",
       "  <tbody>\n",
       "    <tr>\n",
       "      <th>0</th>\n",
       "      <td>8.14</td>\n",
       "      <td>6.52</td>\n",
       "      <td>1</td>\n",
       "    </tr>\n",
       "    <tr>\n",
       "      <th>1</th>\n",
       "      <td>6.17</td>\n",
       "      <td>5.17</td>\n",
       "      <td>0</td>\n",
       "    </tr>\n",
       "    <tr>\n",
       "      <th>2</th>\n",
       "      <td>8.27</td>\n",
       "      <td>8.86</td>\n",
       "      <td>1</td>\n",
       "    </tr>\n",
       "    <tr>\n",
       "      <th>3</th>\n",
       "      <td>6.88</td>\n",
       "      <td>7.27</td>\n",
       "      <td>1</td>\n",
       "    </tr>\n",
       "    <tr>\n",
       "      <th>4</th>\n",
       "      <td>7.52</td>\n",
       "      <td>7.30</td>\n",
       "      <td>1</td>\n",
       "    </tr>\n",
       "  </tbody>\n",
       "</table>\n",
       "</div>"
      ],
      "text/plain": [
       "   cgpa  resume_score  placed\n",
       "0  8.14          6.52       1\n",
       "1  6.17          5.17       0\n",
       "2  8.27          8.86       1\n",
       "3  6.88          7.27       1\n",
       "4  7.52          7.30       1"
      ]
     },
     "execution_count": 3,
     "metadata": {},
     "output_type": "execute_result"
    }
   ],
   "source": [
    "dataset.head()"
   ]
  },
  {
   "cell_type": "code",
   "execution_count": 4,
   "id": "3dca0b7d-bedf-416d-8506-beb11c414fdf",
   "metadata": {},
   "outputs": [],
   "source": [
    "dict ={\"resume_score\":\"score\"}"
   ]
  },
  {
   "cell_type": "code",
   "execution_count": 7,
   "id": "ec05b0b6-eace-4b7f-9b8d-06e358ac6318",
   "metadata": {},
   "outputs": [],
   "source": [
    "dataset.rename(columns=dict,inplace=True)"
   ]
  },
  {
   "cell_type": "code",
   "execution_count": 14,
   "id": "65b15c91-8ecc-4df6-931e-e4fcd5558d7a",
   "metadata": {},
   "outputs": [
    {
     "data": {
      "image/png": "[encoded data removed]",
      "text/plain": [
       "<Figure size 500x400 with 1 Axes>"
      ]
     },
     "metadata": {},
     "output_type": "display_data"
    }
   ],
   "source": [
    "plt.figure(figsize=(5,4))\n",
    "sns.scatterplot(x=\"cgpa\",y=\"score\",data=dataset,hue=\"placed\")\n",
    "plt.legend(loc=1)\n",
    "plt.show()"
   ]
  },
  {
   "cell_type": "code",
   "execution_count": 15,
   "id": "b1c30010-97ca-4746-9c78-1c26d999814d",
   "metadata": {},
   "outputs": [],
   "source": [
    "x = dataset.iloc[:,:-1]\n",
    "y = dataset[\"placed\"]"
   ]
  },
  {
   "cell_type": "code",
   "execution_count": 16,
   "id": "59bfb41d-b0df-423c-ace7-8aebe2683042",
   "metadata": {},
   "outputs": [],
   "source": [
    "from sklearn.model_selection import train_test_split"
   ]
  },
  {
   "cell_type": "code",
   "execution_count": 18,
   "id": "ce921e19-4991-4b7d-befc-f2ebb0774123",
   "metadata": {},
   "outputs": [],
   "source": [
    "x_train,x_test,y_train,y_test = train_test_split(x,y,test_size=0.2,random_state=42)"
   ]
  },
  {
   "cell_type": "code",
   "execution_count": 19,
   "id": "a9c2edb8-e615-450f-9574-2f254c575b4b",
   "metadata": {},
   "outputs": [],
   "source": [
    "from sklearn.linear_model import LogisticRegression"
   ]
  },
  {
   "cell_type": "code",
   "execution_count": 20,
   "id": "89cb8416-2932-41cf-a629-fd74da5e4d3b",
   "metadata": {},
   "outputs": [],
   "source": [
    "lr = LogisticRegression()"
   ]
  },
  {
   "cell_type": "code",
   "execution_count": 21,
   "id": "ccdf58e9-f5b9-473a-8132-89394ec3dc6b",
   "metadata": {},
   "outputs": [
    {
     "data": {
      "text/html": [
       "<style>#sk-container-id-1 {color: black;background-color: white;}#sk-container-id-1 pre{padding: 0;}#sk-container-id-1 div.sk-toggleable {background-color: white;}#sk-container-id-1 label.sk-toggleable__label {cursor: pointer;display: block;width: 100%;margin-bottom: 0;padding: 0.3em;box-sizing: border-box;text-align: center;}#sk-container-id-1 label.sk-toggleable__label-arrow:before {content: \"▸\";float: left;margin-right: 0.25em;color: #696969;}#sk-container-id-1 label.sk-toggleable__label-arrow:hover:before {color: black;}#sk-container-id-1 div.sk-estimator:hover label.sk-toggleable__label-arrow:before {color: black;}#sk-container-id-1 div.sk-toggleable__content {max-height: 0;max-width: 0;overflow: hidden;text-align: left;background-color: #f0f8ff;}#sk-container-id-1 div.sk-toggleable__content pre {margin: 0.2em;color: black;border-radius: 0.25em;background-color: #f0f8ff;}#sk-container-id-1 input.sk-toggleable__control:checked~div.sk-toggleable__content {max-height: 200px;max-width: 100%;overflow: auto;}#sk-container-id-1 input.sk-toggleable__control:checked~label.sk-toggleable__label-arrow:before {content: \"▾\";}#sk-container-id-1 div.sk-estimator input.sk-toggleable__control:checked~label.sk-toggleable__label {background-color: #d4ebff;}#sk-container-id-1 div.sk-label input.sk-toggleable__control:checked~label.sk-toggleable__label {background-color: #d4ebff;}#sk-container-id-1 input.sk-hidden--visually {border: 0;clip: rect(1px 1px 1px 1px);clip: rect(1px, 1px, 1px, 1px);height: 1px;margin: -1px;overflow: hidden;padding: 0;position: absolute;width: 1px;}#sk-container-id-1 div.sk-estimator {font-family: monospace;background-color: #f0f8ff;border: 1px dotted black;border-radius: 0.25em;box-sizing: border-box;margin-bottom: 0.5em;}#sk-container-id-1 div.sk-estimator:hover {background-color: #d4ebff;}#sk-container-id-1 div.sk-parallel-item::after {content: \"\";width: 100%;border-bottom: 1px solid gray;flex-grow: 1;}#sk-container-id-1 div.sk-label:hover label.sk-toggleable__label {background-color: #d4ebff;}#sk-container-id-1 div.sk-serial::before {content: \"\";position: absolute;border-left: 1px solid gray;box-sizing: border-box;top: 0;bottom: 0;left: 50%;z-index: 0;}#sk-container-id-1 div.sk-serial {display: flex;flex-direction: column;align-items: center;background-color: white;padding-right: 0.2em;padding-left: 0.2em;position: relative;}#sk-container-id-1 div.sk-item {position: relative;z-index: 1;}#sk-container-id-1 div.sk-parallel {display: flex;align-items: stretch;justify-content: center;background-color: white;position: relative;}#sk-container-id-1 div.sk-item::before, #sk-container-id-1 div.sk-parallel-item::before {content: \"\";position: absolute;border-left: 1px solid gray;box-sizing: border-box;top: 0;bottom: 0;left: 50%;z-index: -1;}#sk-container-id-1 div.sk-parallel-item {display: flex;flex-direction: column;z-index: 1;position: relative;background-color: white;}#sk-container-id-1 div.sk-parallel-item:first-child::after {align-self: flex-end;width: 50%;}#sk-container-id-1 div.sk-parallel-item:last-child::after {align-self: flex-start;width: 50%;}#sk-container-id-1 div.sk-parallel-item:only-child::after {width: 0;}#sk-container-id-1 div.sk-dashed-wrapped {border: 1px dashed gray;margin: 0 0.4em 0.5em 0.4em;box-sizing: border-box;padding-bottom: 0.4em;background-color: white;}#sk-container-id-1 div.sk-label label {font-family: monospace;font-weight: bold;display: inline-block;line-height: 1.2em;}#sk-container-id-1 div.sk-label-container {text-align: center;}#sk-container-id-1 div.sk-container {/* jupyter's `normalize.less` sets `[hidden] { display: none; }` but bootstrap.min.css set `[hidden] { display: none !important; }` so we also need the `!important` here to be able to override the default hidden behavior on the sphinx rendered scikit-learn.org. See: https://github.com/scikit-learn/scikit-learn/issues/21755 */display: inline-block !important;position: relative;}#sk-container-id-1 div.sk-text-repr-fallback {display: none;}</style><div id=\"sk-container-id-1\" class=\"sk-top-container\"><div class=\"sk-text-repr-fallback\"><pre>LogisticRegression()</pre><b>In a Jupyter environment, please rerun this cell to show the HTML representation or trust the notebook. <br />On GitHub, the HTML representation is unable to render, please try loading this page with nbviewer.org.</b></div><div class=\"sk-container\" hidden><div class=\"sk-item\"><div class=\"sk-estimator sk-toggleable\"><input class=\"sk-toggleable__control sk-hidden--visually\" id=\"sk-estimator-id-1\" type=\"checkbox\" checked><label for=\"sk-estimator-id-1\" class=\"sk-toggleable__label sk-toggleable__label-arrow\">LogisticRegression</label><div class=\"sk-toggleable__content\"><pre>LogisticRegression()</pre></div></div></div></div></div>"
      ],
      "text/plain": [
       "LogisticRegression()"
      ]
     },
     "execution_count": 21,
     "metadata": {},
     "output_type": "execute_result"
    }
   ],
   "source": [
    "lr.fit(x_train,y_train)"
   ]
  },
  {
   "cell_type": "code",
   "execution_count": 23,
   "id": "39897bcb-15e7-4fa7-a419-4ca9c86bfe7a",
   "metadata": {},
   "outputs": [
    {
     "data": {
      "text/plain": [
       "100.0"
      ]
     },
     "execution_count": 23,
     "metadata": {},
     "output_type": "execute_result"
    }
   ],
   "source": [
    "lr.score(x_test,y_test)*100"
   ]
  },
  {
   "cell_type": "code",
   "execution_count": 26,
   "id": "3ee9ce1a-65bf-4bfb-872e-081c317aebce",
   "metadata": {},
   "outputs": [
    {
     "name": "stderr",
     "output_type": "stream",
     "text": [
      "C:\\Users\\Abhi\\anaconda3\\Lib\\site-packages\\sklearn\\base.py:439: UserWarning: X does not have valid feature names, but LogisticRegression was fitted with feature names\n",
      "  warnings.warn(\n"
     ]
    },
    {
     "data": {
      "text/plain": [
       "array([1], dtype=int64)"
      ]
     },
     "execution_count": 26,
     "metadata": {},
     "output_type": "execute_result"
    }
   ],
   "source": [
    "lr.predict([[8.27,6.45]])"
   ]
  },
  {
   "cell_type": "code",
   "execution_count": 27,
   "id": "3bd42643-bb16-4eab-ab6e-3bfb091c5e87",
   "metadata": {},
   "outputs": [],
   "source": [
    "from mlxtend.plotting import plot_decision_regions"
   ]
  },
  {
   "cell_type": "code",
   "execution_count": 28,
   "id": "fa02e990-cc12-4a35-b537-29c6b003ac61",
   "metadata": {},
   "outputs": [
    {
     "name": "stderr",
     "output_type": "stream",
     "text": [
      "C:\\Users\\Abhi\\anaconda3\\Lib\\site-packages\\sklearn\\base.py:439: UserWarning: X does not have valid feature names, but LogisticRegression was fitted with feature names\n",
      "  warnings.warn(\n"
     ]
    },
    {
     "data": {
      "image/png": "[encoded data removed]",
      "text/plain": [
       "<Figure size 640x480 with 1 Axes>"
      ]
     },
     "metadata": {},
     "output_type": "display_data"
    }
   ],
   "source": [
    "plot_decision_regions(x.to_numpy(),y.to_numpy(),clf=lr)\n",
    "plt.show()"
   ]
  },
  {
   "cell_type": "code",
   "execution_count": 29,
   "id": "d5c1b868-a5a0-4e67-91d9-73380de654ec",
   "metadata": {},
   "outputs": [
    {
     "data": {
      "text/plain": [
       "array([[3.0343255 , 0.49685369]])"
      ]
     },
     "execution_count": 29,
     "metadata": {},
     "output_type": "execute_result"
    }
   ],
   "source": [
    "lr.coef_"
   ]
  },
  {
   "cell_type": "code",
   "execution_count": 30,
   "id": "0f0949a4-c493-4a7f-b77a-30977e5221d4",
   "metadata": {},
   "outputs": [
    {
     "data": {
      "text/plain": [
       "array([-24.1349968])"
      ]
     },
     "execution_count": 30,
     "metadata": {},
     "output_type": "execute_result"
    }
   ],
   "source": [
    "lr.intercept_"
   ]
  },
  {
   "cell_type": "code",
   "execution_count": 31,
   "id": "2a09335c-987e-4364-8378-9170ff6c314d",
   "metadata": {},
   "outputs": [
    {
     "name": "stdout",
     "output_type": "stream",
     "text": [
      "      data1     data2     data3     data4     data5     data6     data7  \\\n",
      "0  0.063228  0.680560  0.504869  0.756452  0.811254  0.329097  0.438213   \n",
      "1  0.458868  0.597133  0.402121  0.944754  0.877514  0.360806  0.547873   \n",
      "2  0.127561  0.263153  0.394746  0.240025  0.155443  0.503741  0.068650   \n",
      "3  0.671553  0.947663  0.827376  0.288593  0.598922  0.271125  0.606616   \n",
      "4  0.087845  0.906679  0.839683  0.076289  0.163796  0.944447  0.218905   \n",
      "\n",
      "      data8     data9    data10  ...    data12    data13    data14    data15  \\\n",
      "0  0.373545  0.376184  0.079614  ...  0.636138  0.783267  0.624705  0.068604   \n",
      "1  0.191934  0.043669  0.383789  ...  0.453043  0.710048  0.972082  0.729184   \n",
      "2  0.868971  0.093399  0.836010  ...  0.548024  0.962320  0.479303  0.794227   \n",
      "3  0.801282  0.914000  0.233437  ...  0.901744  0.800810  0.565684  0.607710   \n",
      "4  0.077583  0.923774  0.105223  ...  0.454407  0.609675  0.845159  0.483439   \n",
      "\n",
      "     data16    data17    data18    data19    data20    output  \n",
      "0  0.153175  0.073584  0.781152  0.472673  0.512828  2.953548  \n",
      "1  0.879340  0.478979  0.853924  0.504941  0.365227  2.088324  \n",
      "2  0.897132  0.397447  0.760295  0.656650  0.459384  2.782400  \n",
      "3  0.430600  0.411160  0.409144  0.572117  0.401519  2.166897  \n",
      "4  0.087213  0.613866  0.556329  0.039009  0.724585  2.896202  \n",
      "\n",
      "[5 rows x 21 columns]\n"
     ]
    }
   ],
   "source": [
    "import numpy as np\n",
    "import pandas as pd\n",
    "\n",
    "def generate_polynomial_dataset(num_columns=20, min_value=0.03, max_value=0.99):\n",
    "    \"\"\"\n",
    "    Generates a polynomial dataset with the specified number of columns and value range.\n",
    "\n",
    "    Args:\n",
    "        num_columns: The number of columns in the dataset (excluding the output column).\n",
    "        min_value: The minimum value for the data.\n",
    "        max_value: The maximum value for the data.\n",
    "\n",
    "    Returns:\n",
    "        A pandas DataFrame containing the generated dataset.\n",
    "    \"\"\"\n",
    "\n",
    "    # Generate random data for the input columns\n",
    "    data = np.random.uniform(min_value, max_value, size=(100, num_columns))\n",
    "\n",
    "    # Generate the output column based on a polynomial function of the input columns\n",
    "    output = np.polyval([1, -2, 3], data[:, 0]) + np.random.normal(0, 0.1, 100)\n",
    "\n",
    "    # Create a pandas DataFrame\n",
    "    df = pd.DataFrame(data, columns=['data{}'.format(i) for i in range(1, num_columns + 1)])\n",
    "    df['output'] = output\n",
    "\n",
    "    return df\n",
    "\n",
    "# Generate the dataset\n",
    "dataset = generate_polynomial_dataset(num_columns=20)\n",
    "\n",
    "# Print the dataset\n",
    "print(dataset.head())"
   ]
  },
  {
   "cell_type": "code",
   "execution_count": 37,
   "id": "ea7fb922-6c8b-4f57-98a7-62510506c44e",
   "metadata": {},
   "outputs": [],
   "source": [
    "import numpy as np\n",
    "\n",
    "def generate_polynomial_dataset(num_samples, noise_std=0.1):\n",
    "  \"\"\"Generates a polynomial classification dataset.\n",
    "\n",
    "  Args:\n",
    "    num_samples: The number of samples to generate.\n",
    "    noise_std: The standard deviation of the noise added to the output.\n",
    "\n",
    "  Returns:\n",
    "    A tuple of (data1, data2, output) where:\n",
    "      - data1 and data2 are independent variables, each a NumPy array of shape (num_samples,)\n",
    "      - output is the dependent variable, a NumPy array of shape (num_samples,)\n",
    "  \"\"\"\n",
    "\n",
    "  # Generate random data for data1 and data2\n",
    "  data1 = np.random.uniform(0, 1, num_samples)\n",
    "  data2 = np.random.uniform(0, 1, num_samples)\n",
    "\n",
    "  # Generate the output based on a polynomial function with added noise\n",
    "  output = 0.5 * data1**2 + 0.3 * data2**3 + np.random.normal(0, noise_std, num_samples)\n",
    "\n",
    "  # Threshold the output to create binary classification\n",
    "  output = (output > 0.5).astype(int)\n",
    "\n",
    "  return data1, data2, output\n",
    "\n",
    "# Generate a dataset with 1000 samples\n",
    "data1, data2, output = generate_polynomial_dataset(1000)\n",
    "\n",
    "# Print the first few samples\n",
    "data=np.column_stack((data1[:40], data2[:40], output[:40]))"
   ]
  },
  {
   "cell_type": "code",
   "execution_count": 38,
   "id": "41020e40-ddcc-4e86-a5fe-553be700dff6",
   "metadata": {},
   "outputs": [],
   "source": [
    "df = pd.DataFrame(data, columns=['data1', 'data2', 'output'])"
   ]
  },
  {
   "cell_type": "code",
   "execution_count": 42,
   "id": "1efc515d-a867-4597-aca3-9bee7d353968",
   "metadata": {},
   "outputs": [],
   "source": [
    "# df"
   ]
  },
  {
   "cell_type": "code",
   "execution_count": 43,
   "id": "4b1e6209-4985-4229-b85a-96bdca51c6b5",
   "metadata": {},
   "outputs": [],
   "source": [
    "import pandas as pd\n",
    "\n",
    "# Load your dataset into a DataFrame\n",
    "# df = pd.read_csv('df')\n",
    "\n",
    "# Export the DataFrame to a CSV file\n",
    "df.to_csv('Polynomial Classification.csv', index=False)"
   ]
  },
  {
   "cell_type": "code",
   "execution_count": null,
   "id": "f56aaad4-88cf-4e02-9ee6-7f9e47ee4283",
   "metadata": {},
   "outputs": [],
   "source": []
  }
 ],
 "metadata": {
  "kernelspec": {
   "display_name": "Python 3 (ipykernel)",
   "language": "python",
   "name": "python3"
  },
  "language_info": {
   "codemirror_mode": {
    "name": "ipython",
    "version": 3
   },
   "file_extension": ".py",
   "mimetype": "text/x-python",
   "name": "python",
   "nbconvert_exporter": "python",
   "pygments_lexer": "ipython3",
   "version": "3.11.7"
  }
 },
 "nbformat": 4,
 "nbformat_minor": 5
}
