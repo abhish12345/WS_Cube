{
 "cells": [
  {
   "cell_type": "code",
   "execution_count": 1,
   "id": "35b868e1-c264-413d-8066-84f134d3dfe0",
   "metadata": {},
   "outputs": [],
   "source": [
    "import pandas as pd"
   ]
  },
  {
   "cell_type": "code",
   "execution_count": 2,
   "id": "dc07d392-c6c7-438c-b059-8e69c004c75d",
   "metadata": {},
   "outputs": [],
   "source": [
    "dataset = pd.read_csv(r\"D:\\projject\\WS_Cube\\placement.csv\")"
   ]
  },
  {
   "cell_type": "code",
   "execution_count": 3,
   "id": "dddc19d1-6559-4400-8b5f-883a264a0cdb",
   "metadata": {},
   "outputs": [
    {
     "data": {
      "text/html": [
       "<div>\n",
       "<style scoped>\n",
       "    .dataframe tbody tr th:only-of-type {\n",
       "        vertical-align: middle;\n",
       "    }\n",
       "\n",
       "    .dataframe tbody tr th {\n",
       "        vertical-align: top;\n",
       "    }\n",
       "\n",
       "    .dataframe thead th {\n",
       "        text-align: right;\n",
       "    }\n",
       "</style>\n",
       "<table border=\"1\" class=\"dataframe\">\n",
       "  <thead>\n",
       "    <tr style=\"text-align: right;\">\n",
       "      <th></th>\n",
       "      <th>cgpa</th>\n",
       "      <th>package</th>\n",
       "    </tr>\n",
       "  </thead>\n",
       "  <tbody>\n",
       "    <tr>\n",
       "      <th>0</th>\n",
       "      <td>6.89</td>\n",
       "      <td>3.26</td>\n",
       "    </tr>\n",
       "    <tr>\n",
       "      <th>1</th>\n",
       "      <td>5.12</td>\n",
       "      <td>1.98</td>\n",
       "    </tr>\n",
       "    <tr>\n",
       "      <th>2</th>\n",
       "      <td>7.82</td>\n",
       "      <td>3.25</td>\n",
       "    </tr>\n",
       "    <tr>\n",
       "      <th>3</th>\n",
       "      <td>7.42</td>\n",
       "      <td>3.67</td>\n",
       "    </tr>\n",
       "    <tr>\n",
       "      <th>4</th>\n",
       "      <td>6.94</td>\n",
       "      <td>3.57</td>\n",
       "    </tr>\n",
       "  </tbody>\n",
       "</table>\n",
       "</div>"
      ],
      "text/plain": [
       "   cgpa  package\n",
       "0  6.89     3.26\n",
       "1  5.12     1.98\n",
       "2  7.82     3.25\n",
       "3  7.42     3.67\n",
       "4  6.94     3.57"
      ]
     },
     "execution_count": 3,
     "metadata": {},
     "output_type": "execute_result"
    }
   ],
   "source": [
    "dataset.head()"
   ]
  },
  {
   "cell_type": "code",
   "execution_count": 4,
   "id": "b2c9a566-d686-417c-942b-aef7a2f9b0f2",
   "metadata": {},
   "outputs": [],
   "source": [
    "x = dataset.iloc[:,:-1]\n",
    "y = dataset['package']"
   ]
  },
  {
   "cell_type": "code",
   "execution_count": 5,
   "id": "7c1f11b9-1236-43d1-8fe5-31cbd5c53410",
   "metadata": {},
   "outputs": [],
   "source": [
    "from sklearn.model_selection import train_test_split"
   ]
  },
  {
   "cell_type": "code",
   "execution_count": 6,
   "id": "9c9ffe93-f690-4655-a832-c37524650969",
   "metadata": {},
   "outputs": [],
   "source": [
    "x_train, x_test, y_train, y_test = train_test_split(x,y,test_size=0.2,random_state=42)"
   ]
  },
  {
   "cell_type": "code",
   "execution_count": null,
   "id": "67d769ee-b434-4a35-a6c5-7031cd18712b",
   "metadata": {},
   "outputs": [],
   "source": []
  },
  {
   "cell_type": "code",
   "execution_count": 7,
   "id": "46c1fd1b-298f-4731-88e9-7b9e70d903be",
   "metadata": {},
   "outputs": [],
   "source": [
    "from sklearn.linear_model import LinearRegression\n",
    "from sklearn.tree import DecisionTreeRegressor\n",
    "from sklearn.svm import SVR"
   ]
  },
  {
   "cell_type": "code",
   "execution_count": null,
   "id": "cc9abe4e-f6e3-4a96-b9c3-6ea8d2bc1817",
   "metadata": {},
   "outputs": [],
   "source": []
  },
  {
   "cell_type": "code",
   "execution_count": 9,
   "id": "4f7ec336-4648-4a91-adb8-9b61d17df24d",
   "metadata": {},
   "outputs": [
    {
     "data": {
      "text/plain": [
       "(77.58339025733345, 77.30984312051673)"
      ]
     },
     "execution_count": 9,
     "metadata": {},
     "output_type": "execute_result"
    }
   ],
   "source": [
    "lr = LinearRegression()\n",
    "lr.fit(x_train,y_train)\n",
    "lr.score(x_train,y_train)*100, lr.score(x_test,y_test)*100"
   ]
  },
  {
   "cell_type": "code",
   "execution_count": null,
   "id": "f3f9aaca-3b32-49ee-ac5a-30d28661c2d4",
   "metadata": {},
   "outputs": [],
   "source": []
  },
  {
   "cell_type": "code",
   "execution_count": 10,
   "id": "53deebc3-1908-456c-bf9c-a612b9218771",
   "metadata": {},
   "outputs": [
    {
     "data": {
      "text/plain": [
       "(95.1559200955432, 52.19733481708333)"
      ]
     },
     "execution_count": 10,
     "metadata": {},
     "output_type": "execute_result"
    }
   ],
   "source": [
    "dt = DecisionTreeRegressor()\n",
    "dt.fit(x_train,y_train)\n",
    "dt.score(x_train,y_train)*100, dt.score(x_test,y_test)*100"
   ]
  },
  {
   "cell_type": "code",
   "execution_count": 11,
   "id": "26790eb2-3b9b-44a2-8062-4cdca5dfa8f1",
   "metadata": {},
   "outputs": [
    {
     "data": {
      "text/plain": [
       "(78.16909319813372, 75.94945442913415)"
      ]
     },
     "execution_count": 11,
     "metadata": {},
     "output_type": "execute_result"
    }
   ],
   "source": [
    "sv = SVR()\n",
    "sv.fit(x_train,y_train)\n",
    "sv.score(x_train,y_train)*100, sv.score(x_test,y_test)*100"
   ]
  },
  {
   "cell_type": "code",
   "execution_count": null,
   "id": "f3156b32-97f1-47d3-8563-ae06bb691a75",
   "metadata": {},
   "outputs": [],
   "source": []
  },
  {
   "cell_type": "code",
   "execution_count": null,
   "id": "1c146b78-2221-435f-a049-453912dbcce5",
   "metadata": {},
   "outputs": [],
   "source": []
  },
  {
   "cell_type": "code",
   "execution_count": 12,
   "id": "02099905-8e06-4dfe-ac8c-91a6812a7970",
   "metadata": {},
   "outputs": [],
   "source": [
    "from sklearn.ensemble import VotingRegressor"
   ]
  },
  {
   "cell_type": "code",
   "execution_count": 16,
   "id": "bf1a6337-b26d-4b87-940c-ea9ec53211d0",
   "metadata": {},
   "outputs": [],
   "source": [
    "li = [('lr1',LinearRegression()),('dt1',DecisionTreeRegressor()),('sv1',SVR())]"
   ]
  },
  {
   "cell_type": "code",
   "execution_count": 17,
   "id": "b35a69d8-e58c-4835-802d-7df59bb49f10",
   "metadata": {},
   "outputs": [
    {
     "data": {
      "text/html": [
       "<style>#sk-container-id-1 {color: black;background-color: white;}#sk-container-id-1 pre{padding: 0;}#sk-container-id-1 div.sk-toggleable {background-color: white;}#sk-container-id-1 label.sk-toggleable__label {cursor: pointer;display: block;width: 100%;margin-bottom: 0;padding: 0.3em;box-sizing: border-box;text-align: center;}#sk-container-id-1 label.sk-toggleable__label-arrow:before {content: \"▸\";float: left;margin-right: 0.25em;color: #696969;}#sk-container-id-1 label.sk-toggleable__label-arrow:hover:before {color: black;}#sk-container-id-1 div.sk-estimator:hover label.sk-toggleable__label-arrow:before {color: black;}#sk-container-id-1 div.sk-toggleable__content {max-height: 0;max-width: 0;overflow: hidden;text-align: left;background-color: #f0f8ff;}#sk-container-id-1 div.sk-toggleable__content pre {margin: 0.2em;color: black;border-radius: 0.25em;background-color: #f0f8ff;}#sk-container-id-1 input.sk-toggleable__control:checked~div.sk-toggleable__content {max-height: 200px;max-width: 100%;overflow: auto;}#sk-container-id-1 input.sk-toggleable__control:checked~label.sk-toggleable__label-arrow:before {content: \"▾\";}#sk-container-id-1 div.sk-estimator input.sk-toggleable__control:checked~label.sk-toggleable__label {background-color: #d4ebff;}#sk-container-id-1 div.sk-label input.sk-toggleable__control:checked~label.sk-toggleable__label {background-color: #d4ebff;}#sk-container-id-1 input.sk-hidden--visually {border: 0;clip: rect(1px 1px 1px 1px);clip: rect(1px, 1px, 1px, 1px);height: 1px;margin: -1px;overflow: hidden;padding: 0;position: absolute;width: 1px;}#sk-container-id-1 div.sk-estimator {font-family: monospace;background-color: #f0f8ff;border: 1px dotted black;border-radius: 0.25em;box-sizing: border-box;margin-bottom: 0.5em;}#sk-container-id-1 div.sk-estimator:hover {background-color: #d4ebff;}#sk-container-id-1 div.sk-parallel-item::after {content: \"\";width: 100%;border-bottom: 1px solid gray;flex-grow: 1;}#sk-container-id-1 div.sk-label:hover label.sk-toggleable__label {background-color: #d4ebff;}#sk-container-id-1 div.sk-serial::before {content: \"\";position: absolute;border-left: 1px solid gray;box-sizing: border-box;top: 0;bottom: 0;left: 50%;z-index: 0;}#sk-container-id-1 div.sk-serial {display: flex;flex-direction: column;align-items: center;background-color: white;padding-right: 0.2em;padding-left: 0.2em;position: relative;}#sk-container-id-1 div.sk-item {position: relative;z-index: 1;}#sk-container-id-1 div.sk-parallel {display: flex;align-items: stretch;justify-content: center;background-color: white;position: relative;}#sk-container-id-1 div.sk-item::before, #sk-container-id-1 div.sk-parallel-item::before {content: \"\";position: absolute;border-left: 1px solid gray;box-sizing: border-box;top: 0;bottom: 0;left: 50%;z-index: -1;}#sk-container-id-1 div.sk-parallel-item {display: flex;flex-direction: column;z-index: 1;position: relative;background-color: white;}#sk-container-id-1 div.sk-parallel-item:first-child::after {align-self: flex-end;width: 50%;}#sk-container-id-1 div.sk-parallel-item:last-child::after {align-self: flex-start;width: 50%;}#sk-container-id-1 div.sk-parallel-item:only-child::after {width: 0;}#sk-container-id-1 div.sk-dashed-wrapped {border: 1px dashed gray;margin: 0 0.4em 0.5em 0.4em;box-sizing: border-box;padding-bottom: 0.4em;background-color: white;}#sk-container-id-1 div.sk-label label {font-family: monospace;font-weight: bold;display: inline-block;line-height: 1.2em;}#sk-container-id-1 div.sk-label-container {text-align: center;}#sk-container-id-1 div.sk-container {/* jupyter's `normalize.less` sets `[hidden] { display: none; }` but bootstrap.min.css set `[hidden] { display: none !important; }` so we also need the `!important` here to be able to override the default hidden behavior on the sphinx rendered scikit-learn.org. See: https://github.com/scikit-learn/scikit-learn/issues/21755 */display: inline-block !important;position: relative;}#sk-container-id-1 div.sk-text-repr-fallback {display: none;}</style><div id=\"sk-container-id-1\" class=\"sk-top-container\"><div class=\"sk-text-repr-fallback\"><pre>VotingRegressor(estimators=[(&#x27;lr1&#x27;, LinearRegression()),\n",
       "                            (&#x27;dt1&#x27;, DecisionTreeRegressor()), (&#x27;sv1&#x27;, SVR())])</pre><b>In a Jupyter environment, please rerun this cell to show the HTML representation or trust the notebook. <br />On GitHub, the HTML representation is unable to render, please try loading this page with nbviewer.org.</b></div><div class=\"sk-container\" hidden><div class=\"sk-item sk-dashed-wrapped\"><div class=\"sk-label-container\"><div class=\"sk-label sk-toggleable\"><input class=\"sk-toggleable__control sk-hidden--visually\" id=\"sk-estimator-id-1\" type=\"checkbox\" ><label for=\"sk-estimator-id-1\" class=\"sk-toggleable__label sk-toggleable__label-arrow\">VotingRegressor</label><div class=\"sk-toggleable__content\"><pre>VotingRegressor(estimators=[(&#x27;lr1&#x27;, LinearRegression()),\n",
       "                            (&#x27;dt1&#x27;, DecisionTreeRegressor()), (&#x27;sv1&#x27;, SVR())])</pre></div></div></div><div class=\"sk-parallel\"><div class=\"sk-parallel-item\"><div class=\"sk-item\"><div class=\"sk-label-container\"><div class=\"sk-label sk-toggleable\"><label>lr1</label></div></div><div class=\"sk-serial\"><div class=\"sk-item\"><div class=\"sk-estimator sk-toggleable\"><input class=\"sk-toggleable__control sk-hidden--visually\" id=\"sk-estimator-id-2\" type=\"checkbox\" ><label for=\"sk-estimator-id-2\" class=\"sk-toggleable__label sk-toggleable__label-arrow\">LinearRegression</label><div class=\"sk-toggleable__content\"><pre>LinearRegression()</pre></div></div></div></div></div></div><div class=\"sk-parallel-item\"><div class=\"sk-item\"><div class=\"sk-label-container\"><div class=\"sk-label sk-toggleable\"><label>dt1</label></div></div><div class=\"sk-serial\"><div class=\"sk-item\"><div class=\"sk-estimator sk-toggleable\"><input class=\"sk-toggleable__control sk-hidden--visually\" id=\"sk-estimator-id-3\" type=\"checkbox\" ><label for=\"sk-estimator-id-3\" class=\"sk-toggleable__label sk-toggleable__label-arrow\">DecisionTreeRegressor</label><div class=\"sk-toggleable__content\"><pre>DecisionTreeRegressor()</pre></div></div></div></div></div></div><div class=\"sk-parallel-item\"><div class=\"sk-item\"><div class=\"sk-label-container\"><div class=\"sk-label sk-toggleable\"><label>sv1</label></div></div><div class=\"sk-serial\"><div class=\"sk-item\"><div class=\"sk-estimator sk-toggleable\"><input class=\"sk-toggleable__control sk-hidden--visually\" id=\"sk-estimator-id-4\" type=\"checkbox\" ><label for=\"sk-estimator-id-4\" class=\"sk-toggleable__label sk-toggleable__label-arrow\">SVR</label><div class=\"sk-toggleable__content\"><pre>SVR()</pre></div></div></div></div></div></div></div></div></div></div>"
      ],
      "text/plain": [
       "VotingRegressor(estimators=[('lr1', LinearRegression()),\n",
       "                            ('dt1', DecisionTreeRegressor()), ('sv1', SVR())])"
      ]
     },
     "execution_count": 17,
     "metadata": {},
     "output_type": "execute_result"
    }
   ],
   "source": [
    "vc = VotingRegressor(li)\n",
    "vc.fit(x_train,y_train)"
   ]
  },
  {
   "cell_type": "code",
   "execution_count": 18,
   "id": "dc1ccd8b-6c47-48a1-9d6c-b9883b385baa",
   "metadata": {},
   "outputs": [
    {
     "data": {
      "text/plain": [
       "(87.56852979319457, 75.16568331690884)"
      ]
     },
     "execution_count": 18,
     "metadata": {},
     "output_type": "execute_result"
    }
   ],
   "source": [
    "vc.score(x_train,y_train)*100, vc.score(x_test,y_test)*100"
   ]
  },
  {
   "cell_type": "code",
   "execution_count": null,
   "id": "24f341b7-3aea-48e8-8aa5-864efa419385",
   "metadata": {},
   "outputs": [],
   "source": []
  },
  {
   "cell_type": "code",
   "execution_count": 19,
   "id": "16219434-1cc1-49d3-bdcb-253f89bd0331",
   "metadata": {},
   "outputs": [],
   "source": [
    "df = {'lr':lr.predict(x_test),'dt':dt.predict(x_test), 'svm':sv.predict(x_test),'vc':vc.predict(x_test)}"
   ]
  },
  {
   "cell_type": "code",
   "execution_count": 21,
   "id": "d39f0081-e613-470b-8958-f2de77b0bf12",
   "metadata": {},
   "outputs": [],
   "source": [
    "dataframe = pd.DataFrame(df)"
   ]
  },
  {
   "cell_type": "code",
   "execution_count": 22,
   "id": "6fb37932-a89f-438e-832d-9d2518c58ffa",
   "metadata": {},
   "outputs": [
    {
     "data": {
      "text/html": [
       "<div>\n",
       "<style scoped>\n",
       "    .dataframe tbody tr th:only-of-type {\n",
       "        vertical-align: middle;\n",
       "    }\n",
       "\n",
       "    .dataframe tbody tr th {\n",
       "        vertical-align: top;\n",
       "    }\n",
       "\n",
       "    .dataframe thead th {\n",
       "        text-align: right;\n",
       "    }\n",
       "</style>\n",
       "<table border=\"1\" class=\"dataframe\">\n",
       "  <thead>\n",
       "    <tr style=\"text-align: right;\">\n",
       "      <th></th>\n",
       "      <th>lr</th>\n",
       "      <th>dt</th>\n",
       "      <th>svm</th>\n",
       "      <th>vc</th>\n",
       "    </tr>\n",
       "  </thead>\n",
       "  <tbody>\n",
       "    <tr>\n",
       "      <th>0</th>\n",
       "      <td>2.780313</td>\n",
       "      <td>2.920000</td>\n",
       "      <td>2.745462</td>\n",
       "      <td>2.815259</td>\n",
       "    </tr>\n",
       "    <tr>\n",
       "      <th>1</th>\n",
       "      <td>3.136352</td>\n",
       "      <td>3.252500</td>\n",
       "      <td>3.111375</td>\n",
       "      <td>3.166742</td>\n",
       "    </tr>\n",
       "    <tr>\n",
       "      <th>2</th>\n",
       "      <td>3.199521</td>\n",
       "      <td>2.920000</td>\n",
       "      <td>3.186923</td>\n",
       "      <td>3.102148</td>\n",
       "    </tr>\n",
       "    <tr>\n",
       "      <th>3</th>\n",
       "      <td>2.389819</td>\n",
       "      <td>2.540000</td>\n",
       "      <td>2.407183</td>\n",
       "      <td>2.445667</td>\n",
       "    </tr>\n",
       "    <tr>\n",
       "      <th>4</th>\n",
       "      <td>3.526847</td>\n",
       "      <td>3.990000</td>\n",
       "      <td>3.603909</td>\n",
       "      <td>3.706919</td>\n",
       "    </tr>\n",
       "    <tr>\n",
       "      <th>5</th>\n",
       "      <td>3.768035</td>\n",
       "      <td>4.110000</td>\n",
       "      <td>3.864755</td>\n",
       "      <td>3.914263</td>\n",
       "    </tr>\n",
       "    <tr>\n",
       "      <th>6</th>\n",
       "      <td>3.165065</td>\n",
       "      <td>3.330000</td>\n",
       "      <td>3.145318</td>\n",
       "      <td>3.213461</td>\n",
       "    </tr>\n",
       "    <tr>\n",
       "      <th>7</th>\n",
       "      <td>2.544868</td>\n",
       "      <td>2.235000</td>\n",
       "      <td>2.544422</td>\n",
       "      <td>2.441430</td>\n",
       "    </tr>\n",
       "    <tr>\n",
       "      <th>8</th>\n",
       "      <td>3.176550</td>\n",
       "      <td>3.330000</td>\n",
       "      <td>3.159083</td>\n",
       "      <td>3.221878</td>\n",
       "    </tr>\n",
       "    <tr>\n",
       "      <th>9</th>\n",
       "      <td>3.492392</td>\n",
       "      <td>3.140000</td>\n",
       "      <td>3.560946</td>\n",
       "      <td>3.397779</td>\n",
       "    </tr>\n",
       "    <tr>\n",
       "      <th>10</th>\n",
       "      <td>1.907444</td>\n",
       "      <td>1.995000</td>\n",
       "      <td>1.861447</td>\n",
       "      <td>1.921297</td>\n",
       "    </tr>\n",
       "    <tr>\n",
       "      <th>11</th>\n",
       "      <td>2.349621</td>\n",
       "      <td>2.570000</td>\n",
       "      <td>2.367828</td>\n",
       "      <td>2.429150</td>\n",
       "    </tr>\n",
       "    <tr>\n",
       "      <th>12</th>\n",
       "      <td>3.687639</td>\n",
       "      <td>3.890000</td>\n",
       "      <td>3.787063</td>\n",
       "      <td>3.788234</td>\n",
       "    </tr>\n",
       "    <tr>\n",
       "      <th>13</th>\n",
       "      <td>2.757343</td>\n",
       "      <td>1.940000</td>\n",
       "      <td>2.724923</td>\n",
       "      <td>2.474089</td>\n",
       "    </tr>\n",
       "    <tr>\n",
       "      <th>14</th>\n",
       "      <td>3.475164</td>\n",
       "      <td>3.250000</td>\n",
       "      <td>3.539138</td>\n",
       "      <td>3.421434</td>\n",
       "    </tr>\n",
       "    <tr>\n",
       "      <th>15</th>\n",
       "      <td>3.044471</td>\n",
       "      <td>2.850000</td>\n",
       "      <td>3.007404</td>\n",
       "      <td>2.967292</td>\n",
       "    </tr>\n",
       "    <tr>\n",
       "      <th>16</th>\n",
       "      <td>2.326651</td>\n",
       "      <td>2.436667</td>\n",
       "      <td>2.344391</td>\n",
       "      <td>2.369236</td>\n",
       "    </tr>\n",
       "    <tr>\n",
       "      <th>17</th>\n",
       "      <td>3.205263</td>\n",
       "      <td>2.920000</td>\n",
       "      <td>3.193945</td>\n",
       "      <td>3.106403</td>\n",
       "    </tr>\n",
       "    <tr>\n",
       "      <th>18</th>\n",
       "      <td>2.177344</td>\n",
       "      <td>2.550000</td>\n",
       "      <td>2.174781</td>\n",
       "      <td>2.300708</td>\n",
       "    </tr>\n",
       "    <tr>\n",
       "      <th>19</th>\n",
       "      <td>3.314372</td>\n",
       "      <td>3.310000</td>\n",
       "      <td>3.331379</td>\n",
       "      <td>3.318584</td>\n",
       "    </tr>\n",
       "    <tr>\n",
       "      <th>20</th>\n",
       "      <td>2.452987</td>\n",
       "      <td>2.580000</td>\n",
       "      <td>2.465325</td>\n",
       "      <td>2.499437</td>\n",
       "    </tr>\n",
       "    <tr>\n",
       "      <th>21</th>\n",
       "      <td>2.900907</td>\n",
       "      <td>3.185000</td>\n",
       "      <td>2.858757</td>\n",
       "      <td>2.981555</td>\n",
       "    </tr>\n",
       "    <tr>\n",
       "      <th>22</th>\n",
       "      <td>3.320115</td>\n",
       "      <td>3.310000</td>\n",
       "      <td>3.338777</td>\n",
       "      <td>3.322964</td>\n",
       "    </tr>\n",
       "    <tr>\n",
       "      <th>23</th>\n",
       "      <td>2.872195</td>\n",
       "      <td>3.110000</td>\n",
       "      <td>2.830893</td>\n",
       "      <td>2.937696</td>\n",
       "    </tr>\n",
       "    <tr>\n",
       "      <th>24</th>\n",
       "      <td>3.337342</td>\n",
       "      <td>2.770000</td>\n",
       "      <td>3.361030</td>\n",
       "      <td>3.156124</td>\n",
       "    </tr>\n",
       "    <tr>\n",
       "      <th>25</th>\n",
       "      <td>2.194572</td>\n",
       "      <td>2.100000</td>\n",
       "      <td>2.195711</td>\n",
       "      <td>2.163428</td>\n",
       "    </tr>\n",
       "    <tr>\n",
       "      <th>26</th>\n",
       "      <td>1.419326</td>\n",
       "      <td>1.940000</td>\n",
       "      <td>2.069395</td>\n",
       "      <td>1.809573</td>\n",
       "    </tr>\n",
       "    <tr>\n",
       "      <th>27</th>\n",
       "      <td>2.711403</td>\n",
       "      <td>3.020000</td>\n",
       "      <td>2.684696</td>\n",
       "      <td>2.805366</td>\n",
       "    </tr>\n",
       "    <tr>\n",
       "      <th>28</th>\n",
       "      <td>3.182293</td>\n",
       "      <td>3.420000</td>\n",
       "      <td>3.166005</td>\n",
       "      <td>3.256099</td>\n",
       "    </tr>\n",
       "    <tr>\n",
       "      <th>29</th>\n",
       "      <td>2.326651</td>\n",
       "      <td>2.436667</td>\n",
       "      <td>2.344391</td>\n",
       "      <td>2.369236</td>\n",
       "    </tr>\n",
       "    <tr>\n",
       "      <th>30</th>\n",
       "      <td>3.745064</td>\n",
       "      <td>3.420000</td>\n",
       "      <td>3.843594</td>\n",
       "      <td>3.669553</td>\n",
       "    </tr>\n",
       "    <tr>\n",
       "      <th>31</th>\n",
       "      <td>2.958333</td>\n",
       "      <td>2.970000</td>\n",
       "      <td>2.916291</td>\n",
       "      <td>2.948208</td>\n",
       "    </tr>\n",
       "    <tr>\n",
       "      <th>32</th>\n",
       "      <td>3.681896</td>\n",
       "      <td>3.760000</td>\n",
       "      <td>3.781130</td>\n",
       "      <td>3.741009</td>\n",
       "    </tr>\n",
       "    <tr>\n",
       "      <th>33</th>\n",
       "      <td>2.975561</td>\n",
       "      <td>3.080000</td>\n",
       "      <td>2.934040</td>\n",
       "      <td>2.996534</td>\n",
       "    </tr>\n",
       "    <tr>\n",
       "      <th>34</th>\n",
       "      <td>2.590809</td>\n",
       "      <td>3.180000</td>\n",
       "      <td>2.582838</td>\n",
       "      <td>2.784549</td>\n",
       "    </tr>\n",
       "    <tr>\n",
       "      <th>35</th>\n",
       "      <td>3.348827</td>\n",
       "      <td>2.770000</td>\n",
       "      <td>3.375907</td>\n",
       "      <td>3.164912</td>\n",
       "    </tr>\n",
       "    <tr>\n",
       "      <th>36</th>\n",
       "      <td>2.475958</td>\n",
       "      <td>2.200000</td>\n",
       "      <td>2.485568</td>\n",
       "      <td>2.387175</td>\n",
       "    </tr>\n",
       "    <tr>\n",
       "      <th>37</th>\n",
       "      <td>3.073184</td>\n",
       "      <td>3.030000</td>\n",
       "      <td>3.039129</td>\n",
       "      <td>3.047438</td>\n",
       "    </tr>\n",
       "    <tr>\n",
       "      <th>38</th>\n",
       "      <td>4.175757</td>\n",
       "      <td>3.330000</td>\n",
       "      <td>4.107480</td>\n",
       "      <td>3.871079</td>\n",
       "    </tr>\n",
       "    <tr>\n",
       "      <th>39</th>\n",
       "      <td>2.958333</td>\n",
       "      <td>2.970000</td>\n",
       "      <td>2.916291</td>\n",
       "      <td>2.948208</td>\n",
       "    </tr>\n",
       "  </tbody>\n",
       "</table>\n",
       "</div>"
      ],
      "text/plain": [
       "          lr        dt       svm        vc\n",
       "0   2.780313  2.920000  2.745462  2.815259\n",
       "1   3.136352  3.252500  3.111375  3.166742\n",
       "2   3.199521  2.920000  3.186923  3.102148\n",
       "3   2.389819  2.540000  2.407183  2.445667\n",
       "4   3.526847  3.990000  3.603909  3.706919\n",
       "5   3.768035  4.110000  3.864755  3.914263\n",
       "6   3.165065  3.330000  3.145318  3.213461\n",
       "7   2.544868  2.235000  2.544422  2.441430\n",
       "8   3.176550  3.330000  3.159083  3.221878\n",
       "9   3.492392  3.140000  3.560946  3.397779\n",
       "10  1.907444  1.995000  1.861447  1.921297\n",
       "11  2.349621  2.570000  2.367828  2.429150\n",
       "12  3.687639  3.890000  3.787063  3.788234\n",
       "13  2.757343  1.940000  2.724923  2.474089\n",
       "14  3.475164  3.250000  3.539138  3.421434\n",
       "15  3.044471  2.850000  3.007404  2.967292\n",
       "16  2.326651  2.436667  2.344391  2.369236\n",
       "17  3.205263  2.920000  3.193945  3.106403\n",
       "18  2.177344  2.550000  2.174781  2.300708\n",
       "19  3.314372  3.310000  3.331379  3.318584\n",
       "20  2.452987  2.580000  2.465325  2.499437\n",
       "21  2.900907  3.185000  2.858757  2.981555\n",
       "22  3.320115  3.310000  3.338777  3.322964\n",
       "23  2.872195  3.110000  2.830893  2.937696\n",
       "24  3.337342  2.770000  3.361030  3.156124\n",
       "25  2.194572  2.100000  2.195711  2.163428\n",
       "26  1.419326  1.940000  2.069395  1.809573\n",
       "27  2.711403  3.020000  2.684696  2.805366\n",
       "28  3.182293  3.420000  3.166005  3.256099\n",
       "29  2.326651  2.436667  2.344391  2.369236\n",
       "30  3.745064  3.420000  3.843594  3.669553\n",
       "31  2.958333  2.970000  2.916291  2.948208\n",
       "32  3.681896  3.760000  3.781130  3.741009\n",
       "33  2.975561  3.080000  2.934040  2.996534\n",
       "34  2.590809  3.180000  2.582838  2.784549\n",
       "35  3.348827  2.770000  3.375907  3.164912\n",
       "36  2.475958  2.200000  2.485568  2.387175\n",
       "37  3.073184  3.030000  3.039129  3.047438\n",
       "38  4.175757  3.330000  4.107480  3.871079\n",
       "39  2.958333  2.970000  2.916291  2.948208"
      ]
     },
     "execution_count": 22,
     "metadata": {},
     "output_type": "execute_result"
    }
   ],
   "source": [
    "dataframe"
   ]
  },
  {
   "cell_type": "code",
   "execution_count": null,
   "id": "f24c06b0-955f-434a-b644-33bb939e2542",
   "metadata": {},
   "outputs": [],
   "source": []
  }
 ],
 "metadata": {
  "kernelspec": {
   "display_name": "Python 3 (ipykernel)",
   "language": "python",
   "name": "python3"
  },
  "language_info": {
   "codemirror_mode": {
    "name": "ipython",
    "version": 3
   },
   "file_extension": ".py",
   "mimetype": "text/x-python",
   "name": "python",
   "nbconvert_exporter": "python",
   "pygments_lexer": "ipython3",
   "version": "3.11.7"
  }
 },
 "nbformat": 4,
 "nbformat_minor": 5
}
